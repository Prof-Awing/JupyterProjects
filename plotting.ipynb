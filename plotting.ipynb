{
 "cells": [
  {
   "cell_type": "code",
   "execution_count": 1,
   "id": "b843780c-5989-411e-8175-b2c8c1c735ad",
   "metadata": {},
   "outputs": [
    {
     "name": "stdout",
     "output_type": "stream",
     "text": [
      "Collecting tradingeconomics\n",
      "  Downloading tradingeconomics-4.3.9-py3-none-any.whl.metadata (2.4 kB)\n",
      "Requirement already satisfied: pandas in c:\\users\\morshed\\appdata\\roaming\\jupyterlab-desktop\\jlab_server\\lib\\site-packages (from tradingeconomics) (2.2.2)\n",
      "Requirement already satisfied: websocket-client in c:\\users\\morshed\\appdata\\roaming\\jupyterlab-desktop\\jlab_server\\lib\\site-packages (from tradingeconomics) (1.8.0)\n",
      "Requirement already satisfied: numpy>=1.26.0 in c:\\users\\morshed\\appdata\\roaming\\jupyterlab-desktop\\jlab_server\\lib\\site-packages (from pandas->tradingeconomics) (2.1.0)\n",
      "Requirement already satisfied: python-dateutil>=2.8.2 in c:\\users\\morshed\\appdata\\roaming\\jupyterlab-desktop\\jlab_server\\lib\\site-packages (from pandas->tradingeconomics) (2.9.0)\n",
      "Requirement already satisfied: pytz>=2020.1 in c:\\users\\morshed\\appdata\\roaming\\jupyterlab-desktop\\jlab_server\\lib\\site-packages (from pandas->tradingeconomics) (2024.1)\n",
      "Requirement already satisfied: tzdata>=2022.7 in c:\\users\\morshed\\appdata\\roaming\\jupyterlab-desktop\\jlab_server\\lib\\site-packages (from pandas->tradingeconomics) (2024.1)\n",
      "Requirement already satisfied: six>=1.5 in c:\\users\\morshed\\appdata\\roaming\\jupyterlab-desktop\\jlab_server\\lib\\site-packages (from python-dateutil>=2.8.2->pandas->tradingeconomics) (1.16.0)\n",
      "Downloading tradingeconomics-4.3.9-py3-none-any.whl (56 kB)\n",
      "Installing collected packages: tradingeconomics\n",
      "Successfully installed tradingeconomics-4.3.9\n"
     ]
    }
   ],
   "source": [
    "!pip install tradingeconomics"
   ]
  },
  {
   "cell_type": "code",
   "execution_count": 2,
   "id": "5a135984-e1e8-4827-90f9-f3e26c2417cb",
   "metadata": {},
   "outputs": [],
   "source": [
    "import tradingeconomics as te\n",
    "import numpy as np"
   ]
  },
  {
   "cell_type": "code",
   "execution_count": 3,
   "id": "b72b3618-c997-4148-a50a-742709c1bfe9",
   "metadata": {},
   "outputs": [],
   "source": [
    "api_key= \"3cfb51495de84f9:ku5xzon6e63jmas\""
   ]
  },
  {
   "cell_type": "code",
   "execution_count": 4,
   "id": "541a1a77-57fb-473c-b518-c058c01cefd3",
   "metadata": {},
   "outputs": [
    {
     "data": {
      "text/plain": [
       "'Logged with 3cfb51495de84f9'"
      ]
     },
     "execution_count": 4,
     "metadata": {},
     "output_type": "execute_result"
    }
   ],
   "source": [
    "te.login(api_key)"
   ]
  },
  {
   "cell_type": "code",
   "execution_count": 60,
   "id": "26ce5a88-eb38-4ab5-807b-8a9fce3821b3",
   "metadata": {},
   "outputs": [],
   "source": [
    "con_list= [\"mexico\", \"sweden\", \"thailand\", \"new zealand\"]\n",
    "ind_list= [\"Imports\", \"Exports\"]\n",
    "inidt= \"2000-01-01\"\n",
    "enddt= \"2023-12-31\""
   ]
  },
  {
   "cell_type": "code",
   "execution_count": 61,
   "id": "a30a6d97-17b6-4d17-9af6-131e3c6074c9",
   "metadata": {
    "scrolled": true
   },
   "outputs": [],
   "source": [
    "df= te.getHistoricalData(country =con_list, indicator =ind_list, initDate= inidt, endDate= enddt, output_type = 'df')"
   ]
  },
  {
   "cell_type": "code",
   "execution_count": 62,
   "id": "0f0375b9-77bf-443d-8711-ab4f540931e3",
   "metadata": {},
   "outputs": [
    {
     "data": {
      "text/html": [
       "<div>\n",
       "<style scoped>\n",
       "    .dataframe tbody tr th:only-of-type {\n",
       "        vertical-align: middle;\n",
       "    }\n",
       "\n",
       "    .dataframe tbody tr th {\n",
       "        vertical-align: top;\n",
       "    }\n",
       "\n",
       "    .dataframe thead th {\n",
       "        text-align: right;\n",
       "    }\n",
       "</style>\n",
       "<table border=\"1\" class=\"dataframe\">\n",
       "  <thead>\n",
       "    <tr style=\"text-align: right;\">\n",
       "      <th></th>\n",
       "      <th>Country</th>\n",
       "      <th>Category</th>\n",
       "      <th>DateTime</th>\n",
       "      <th>Value</th>\n",
       "      <th>Frequency</th>\n",
       "    </tr>\n",
       "  </thead>\n",
       "  <tbody>\n",
       "    <tr>\n",
       "      <th>0</th>\n",
       "      <td>Free accounts have access to the following cou...</td>\n",
       "      <td></td>\n",
       "      <td>2024-09-13T06:33:44.0304549+00:00</td>\n",
       "      <td>0.000</td>\n",
       "      <td>None</td>\n",
       "    </tr>\n",
       "    <tr>\n",
       "      <th>1</th>\n",
       "      <td>Thailand</td>\n",
       "      <td>Imports</td>\n",
       "      <td>2023-12-31T00:00:00</td>\n",
       "      <td>21818.750</td>\n",
       "      <td>Monthly</td>\n",
       "    </tr>\n",
       "    <tr>\n",
       "      <th>2</th>\n",
       "      <td>Thailand</td>\n",
       "      <td>Exports</td>\n",
       "      <td>2023-12-31T00:00:00</td>\n",
       "      <td>22791.550</td>\n",
       "      <td>Monthly</td>\n",
       "    </tr>\n",
       "    <tr>\n",
       "      <th>3</th>\n",
       "      <td>Sweden</td>\n",
       "      <td>Imports</td>\n",
       "      <td>2023-12-31T00:00:00</td>\n",
       "      <td>158500.000</td>\n",
       "      <td>Monthly</td>\n",
       "    </tr>\n",
       "    <tr>\n",
       "      <th>4</th>\n",
       "      <td>Sweden</td>\n",
       "      <td>Exports</td>\n",
       "      <td>2023-12-31T00:00:00</td>\n",
       "      <td>160200.000</td>\n",
       "      <td>Monthly</td>\n",
       "    </tr>\n",
       "    <tr>\n",
       "      <th>...</th>\n",
       "      <td>...</td>\n",
       "      <td>...</td>\n",
       "      <td>...</td>\n",
       "      <td>...</td>\n",
       "      <td>...</td>\n",
       "    </tr>\n",
       "    <tr>\n",
       "      <th>2303</th>\n",
       "      <td>Sweden</td>\n",
       "      <td>Exports</td>\n",
       "      <td>2000-01-31T00:00:00</td>\n",
       "      <td>55900.000</td>\n",
       "      <td>Monthly</td>\n",
       "    </tr>\n",
       "    <tr>\n",
       "      <th>2304</th>\n",
       "      <td>New Zealand</td>\n",
       "      <td>Imports</td>\n",
       "      <td>2000-01-31T00:00:00</td>\n",
       "      <td>1770.920</td>\n",
       "      <td>Monthly</td>\n",
       "    </tr>\n",
       "    <tr>\n",
       "      <th>2305</th>\n",
       "      <td>New Zealand</td>\n",
       "      <td>Exports</td>\n",
       "      <td>2000-01-31T00:00:00</td>\n",
       "      <td>1776.920</td>\n",
       "      <td>Monthly</td>\n",
       "    </tr>\n",
       "    <tr>\n",
       "      <th>2306</th>\n",
       "      <td>Mexico</td>\n",
       "      <td>Imports</td>\n",
       "      <td>2000-01-31T00:00:00</td>\n",
       "      <td>11858.647</td>\n",
       "      <td>Monthly</td>\n",
       "    </tr>\n",
       "    <tr>\n",
       "      <th>2307</th>\n",
       "      <td>Mexico</td>\n",
       "      <td>Exports</td>\n",
       "      <td>2000-01-31T00:00:00</td>\n",
       "      <td>11252.743</td>\n",
       "      <td>Monthly</td>\n",
       "    </tr>\n",
       "  </tbody>\n",
       "</table>\n",
       "<p>2308 rows × 5 columns</p>\n",
       "</div>"
      ],
      "text/plain": [
       "                                                Country Category  \\\n",
       "0     Free accounts have access to the following cou...            \n",
       "1                                              Thailand  Imports   \n",
       "2                                              Thailand  Exports   \n",
       "3                                                Sweden  Imports   \n",
       "4                                                Sweden  Exports   \n",
       "...                                                 ...      ...   \n",
       "2303                                             Sweden  Exports   \n",
       "2304                                        New Zealand  Imports   \n",
       "2305                                        New Zealand  Exports   \n",
       "2306                                             Mexico  Imports   \n",
       "2307                                             Mexico  Exports   \n",
       "\n",
       "                               DateTime       Value Frequency  \n",
       "0     2024-09-13T06:33:44.0304549+00:00       0.000      None  \n",
       "1                   2023-12-31T00:00:00   21818.750   Monthly  \n",
       "2                   2023-12-31T00:00:00   22791.550   Monthly  \n",
       "3                   2023-12-31T00:00:00  158500.000   Monthly  \n",
       "4                   2023-12-31T00:00:00  160200.000   Monthly  \n",
       "...                                 ...         ...       ...  \n",
       "2303                2000-01-31T00:00:00   55900.000   Monthly  \n",
       "2304                2000-01-31T00:00:00    1770.920   Monthly  \n",
       "2305                2000-01-31T00:00:00    1776.920   Monthly  \n",
       "2306                2000-01-31T00:00:00   11858.647   Monthly  \n",
       "2307                2000-01-31T00:00:00   11252.743   Monthly  \n",
       "\n",
       "[2308 rows x 5 columns]"
      ]
     },
     "execution_count": 62,
     "metadata": {},
     "output_type": "execute_result"
    }
   ],
   "source": [
    "df= df[['Country', 'Category', 'DateTime', 'Value', 'Frequency']]\n",
    "df"
   ]
  },
  {
   "cell_type": "code",
   "execution_count": 67,
   "id": "97098aed-f258-46fc-8057-7234c447e4ae",
   "metadata": {},
   "outputs": [
    {
     "data": {
      "text/html": [
       "<div>\n",
       "<style scoped>\n",
       "    .dataframe tbody tr th:only-of-type {\n",
       "        vertical-align: middle;\n",
       "    }\n",
       "\n",
       "    .dataframe tbody tr th {\n",
       "        vertical-align: top;\n",
       "    }\n",
       "\n",
       "    .dataframe thead th {\n",
       "        text-align: right;\n",
       "    }\n",
       "</style>\n",
       "<table border=\"1\" class=\"dataframe\">\n",
       "  <thead>\n",
       "    <tr style=\"text-align: right;\">\n",
       "      <th>Category</th>\n",
       "      <th>Country</th>\n",
       "      <th>DateTime</th>\n",
       "      <th>Frequency</th>\n",
       "      <th>Exports</th>\n",
       "      <th>Imports</th>\n",
       "    </tr>\n",
       "  </thead>\n",
       "  <tbody>\n",
       "    <tr>\n",
       "      <th>1</th>\n",
       "      <td>Mexico</td>\n",
       "      <td>2000-01-31T00:00:00</td>\n",
       "      <td>Monthly</td>\n",
       "      <td>11252.743</td>\n",
       "      <td>11858.647</td>\n",
       "    </tr>\n",
       "    <tr>\n",
       "      <th>2</th>\n",
       "      <td>Mexico</td>\n",
       "      <td>2000-02-29T00:00:00</td>\n",
       "      <td>Monthly</td>\n",
       "      <td>13189.566</td>\n",
       "      <td>13439.078</td>\n",
       "    </tr>\n",
       "    <tr>\n",
       "      <th>3</th>\n",
       "      <td>Mexico</td>\n",
       "      <td>2000-03-31T00:00:00</td>\n",
       "      <td>Monthly</td>\n",
       "      <td>13575.435</td>\n",
       "      <td>13921.248</td>\n",
       "    </tr>\n",
       "    <tr>\n",
       "      <th>4</th>\n",
       "      <td>Mexico</td>\n",
       "      <td>2000-04-30T00:00:00</td>\n",
       "      <td>Monthly</td>\n",
       "      <td>12327.403</td>\n",
       "      <td>12717.859</td>\n",
       "    </tr>\n",
       "    <tr>\n",
       "      <th>5</th>\n",
       "      <td>Mexico</td>\n",
       "      <td>2000-05-31T00:00:00</td>\n",
       "      <td>Monthly</td>\n",
       "      <td>14654.687</td>\n",
       "      <td>15192.823</td>\n",
       "    </tr>\n",
       "    <tr>\n",
       "      <th>...</th>\n",
       "      <td>...</td>\n",
       "      <td>...</td>\n",
       "      <td>...</td>\n",
       "      <td>...</td>\n",
       "      <td>...</td>\n",
       "    </tr>\n",
       "    <tr>\n",
       "      <th>1150</th>\n",
       "      <td>Thailand</td>\n",
       "      <td>2023-10-31T00:00:00</td>\n",
       "      <td>Monthly</td>\n",
       "      <td>23578.830</td>\n",
       "      <td>24411.120</td>\n",
       "    </tr>\n",
       "    <tr>\n",
       "      <th>1151</th>\n",
       "      <td>Thailand</td>\n",
       "      <td>2023-11-30T00:00:00</td>\n",
       "      <td>Monthly</td>\n",
       "      <td>23479.710</td>\n",
       "      <td>25879.140</td>\n",
       "    </tr>\n",
       "    <tr>\n",
       "      <th>1152</th>\n",
       "      <td>Thailand</td>\n",
       "      <td>2023-12-31T00:00:00</td>\n",
       "      <td>Monthly</td>\n",
       "      <td>22791.550</td>\n",
       "      <td>21818.750</td>\n",
       "    </tr>\n",
       "    <tr>\n",
       "      <th>1153</th>\n",
       "      <td>Thailand</td>\n",
       "      <td>2020-05-22T00:00:00</td>\n",
       "      <td>Monthly</td>\n",
       "      <td>NaN</td>\n",
       "      <td>16485.890</td>\n",
       "    </tr>\n",
       "    <tr>\n",
       "      <th>1154</th>\n",
       "      <td>Thailand</td>\n",
       "      <td>2020-08-30T00:00:00</td>\n",
       "      <td>Monthly</td>\n",
       "      <td>20212.350</td>\n",
       "      <td>15862.980</td>\n",
       "    </tr>\n",
       "  </tbody>\n",
       "</table>\n",
       "<p>1154 rows × 5 columns</p>\n",
       "</div>"
      ],
      "text/plain": [
       "Category   Country             DateTime Frequency    Exports    Imports\n",
       "1           Mexico  2000-01-31T00:00:00   Monthly  11252.743  11858.647\n",
       "2           Mexico  2000-02-29T00:00:00   Monthly  13189.566  13439.078\n",
       "3           Mexico  2000-03-31T00:00:00   Monthly  13575.435  13921.248\n",
       "4           Mexico  2000-04-30T00:00:00   Monthly  12327.403  12717.859\n",
       "5           Mexico  2000-05-31T00:00:00   Monthly  14654.687  15192.823\n",
       "...            ...                  ...       ...        ...        ...\n",
       "1150      Thailand  2023-10-31T00:00:00   Monthly  23578.830  24411.120\n",
       "1151      Thailand  2023-11-30T00:00:00   Monthly  23479.710  25879.140\n",
       "1152      Thailand  2023-12-31T00:00:00   Monthly  22791.550  21818.750\n",
       "1153      Thailand  2020-05-22T00:00:00   Monthly        NaN  16485.890\n",
       "1154      Thailand  2020-08-30T00:00:00   Monthly  20212.350  15862.980\n",
       "\n",
       "[1154 rows x 5 columns]"
      ]
     },
     "execution_count": 67,
     "metadata": {},
     "output_type": "execute_result"
    }
   ],
   "source": [
    "inf_df= df.pivot_table(index=['Country', 'DateTime', 'Frequency'], columns='Category', values='Value', aggfunc='first').reset_index()\n",
    "inf_df.index += 1\n",
    "inf_df"
   ]
  },
  {
   "cell_type": "code",
   "execution_count": 69,
   "id": "a52c37f4-858b-440c-8b94-92b905c7c465",
   "metadata": {},
   "outputs": [
    {
     "data": {
      "text/plain": [
       "(Category Country             DateTime Frequency   Exports   Imports\n",
       " 577       Sweden  2000-01-31T00:00:00   Monthly   55900.0   48400.0\n",
       " 578       Sweden  2000-02-29T00:00:00   Monthly   63600.0   52100.0\n",
       " 579       Sweden  2000-03-31T00:00:00   Monthly   72900.0   58600.0\n",
       " 580       Sweden  2000-04-30T00:00:00   Monthly   62900.0   51400.0\n",
       " 581       Sweden  2000-05-31T00:00:00   Monthly   72200.0   59800.0\n",
       " ..           ...                  ...       ...       ...       ...\n",
       " 860       Sweden  2023-08-31T00:00:00   Monthly  158400.0  166200.0\n",
       " 861       Sweden  2023-09-30T00:00:00   Monthly  185400.0  182900.0\n",
       " 862       Sweden  2023-10-31T00:00:00   Monthly  194600.0  187000.0\n",
       " 863       Sweden  2023-11-30T00:00:00   Monthly  190100.0  179800.0\n",
       " 864       Sweden  2023-12-31T00:00:00   Monthly  160200.0  158500.0\n",
       " \n",
       " [288 rows x 5 columns],\n",
       " Category Country             DateTime Frequency    Exports    Imports\n",
       " 1         Mexico  2000-01-31T00:00:00   Monthly  11252.743  11858.647\n",
       " 2         Mexico  2000-02-29T00:00:00   Monthly  13189.566  13439.078\n",
       " 3         Mexico  2000-03-31T00:00:00   Monthly  13575.435  13921.248\n",
       " 4         Mexico  2000-04-30T00:00:00   Monthly  12327.403  12717.859\n",
       " 5         Mexico  2000-05-31T00:00:00   Monthly  14654.687  15192.823\n",
       " ..           ...                  ...       ...        ...        ...\n",
       " 284       Mexico  2023-08-31T00:00:00   Monthly  52458.590  53737.010\n",
       " 285       Mexico  2023-09-30T00:00:00   Monthly  49641.592  51139.513\n",
       " 286       Mexico  2023-10-31T00:00:00   Monthly  51856.871  52226.163\n",
       " 287       Mexico  2023-11-30T00:00:00   Monthly  50182.773  49621.455\n",
       " 288       Mexico  2023-12-31T00:00:00   Monthly  49271.111  45007.242\n",
       " \n",
       " [288 rows x 5 columns])"
      ]
     },
     "execution_count": 69,
     "metadata": {},
     "output_type": "execute_result"
    }
   ],
   "source": [
    "Sweden= inf_df[inf_df['Country']== 'Sweden']\n",
    "Mexico= inf_df[inf_df['Country']== 'Mexico']"
   ]
  },
  {
   "cell_type": "code",
   "execution_count": 81,
   "id": "140953f5-758b-4715-b9dd-c7d05461e1fc",
   "metadata": {},
   "outputs": [],
   "source": [
    "sweden_ex= np.array(list(Sweden['Exports']))\n",
    "mexico_ex= np.array(list(Mexico['Exports']))\n",
    "sweden_im= np.array(list(Sweden['Imports']))\n",
    "mexico_im= np.array(list(Mexico['Imports']))\n",
    "sdate= np.array(list(Sweden['DateTime']))\n",
    "mdate= np.array(list(Mexico['DateTime']))"
   ]
  },
  {
   "cell_type": "code",
   "execution_count": 74,
   "id": "98b8a104-d4e2-4304-87e6-bfa44f4e4ac2",
   "metadata": {},
   "outputs": [
    {
     "name": "stderr",
     "output_type": "stream",
     "text": [
      "Matplotlib is building the font cache; this may take a moment.\n"
     ]
    }
   ],
   "source": [
    "from matplotlib import pyplot as plt"
   ]
  },
  {
   "cell_type": "code",
   "execution_count": 87,
   "id": "54da6b29-ae57-4133-a487-24293d3ab4d4",
   "metadata": {},
   "outputs": [
    {
     "data": {
      "image/png": "[encoded data removed]",
      "text/plain": [
       "<Figure size 640x480 with 2 Axes>"
      ]
     },
     "metadata": {},
     "output_type": "display_data"
    }
   ],
   "source": [
    "plt.subplot(2,1,1)\n",
    "plt.plot(date, sweden_im, c= 'red') \n",
    "plt.plot(date, sweden_ex, c= 'green')\n",
    "plt.title('Sweden')\n",
    "\n",
    "plt.subplot(2,1,2)\n",
    "plt.plot(date, mexico_im, c= 'red') \n",
    "plt.plot(date, mexico_ex, c= 'green')\n",
    "plt.title('Mexico')\n",
    "\n",
    "plt.suptitle('Indicators: Export vs Import')\n",
    "plt.show()"
   ]
  },
  {
   "cell_type": "code",
   "execution_count": null,
   "id": "b2d72e0e-1ea4-474f-a6c1-ecf5ca9aed6d",
   "metadata": {},
   "outputs": [],
   "source": []
  }
 ],
 "metadata": {
  "kernelspec": {
   "display_name": "Python 3 (ipykernel)",
   "language": "python",
   "name": "python3"
  },
  "language_info": {
   "codemirror_mode": {
    "name": "ipython",
    "version": 3
   },
   "file_extension": ".py",
   "mimetype": "text/x-python",
   "name": "python",
   "nbconvert_exporter": "python",
   "pygments_lexer": "ipython3",
   "version": "3.12.5"
  }
 },
 "nbformat": 4,
 "nbformat_minor": 5
}
