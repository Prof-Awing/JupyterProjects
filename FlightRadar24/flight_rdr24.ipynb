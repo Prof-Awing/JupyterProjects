{
 "cells": [
  {
   "cell_type": "code",
   "execution_count": 4,
   "id": "3e61912a-4826-4cf4-bc01-139a0befd272",
   "metadata": {},
   "outputs": [],
   "source": [
    "from selenium import webdriver\n",
    "from selenium.webdriver.common.by import By\n",
    "from selenium.webdriver.chrome.options import Options"
   ]
  },
  {
   "cell_type": "code",
   "execution_count": 5,
   "id": "ada619dc-9ec2-44a1-b5d2-4550cb4169a7",
   "metadata": {},
   "outputs": [],
   "source": [
    "options = Options()\n",
    "options.add_argument(\"--headless\") \n",
    "driver= webdriver.Chrome()\n",
    "\n",
    "url= \"https://www.flightradar24.com/data/airlines\"\n",
    "driver.get(url)"
   ]
  },
  {
   "cell_type": "code",
   "execution_count": 6,
   "id": "8e45e0c6-17ef-44a6-9298-c01cf6abee98",
   "metadata": {},
   "outputs": [],
   "source": [
    "try:\n",
    "    cookie_confirmation= driver.find_element(By.ID, \"onetrust-accept-btn-handler\")\n",
    "    cookie_confirmation.click()\n",
    "except:\n",
    "    pass"
   ]
  },
  {
   "cell_type": "code",
   "execution_count": 7,
   "id": "dc27ebcb-2be3-4a24-8c4e-44c656fb2fba",
   "metadata": {},
   "outputs": [],
   "source": [
    "company_list=[\"21 Air\", \"Air Astra\", \"Qatar Airways\"]"
   ]
  },
  {
   "cell_type": "code",
   "execution_count": 8,
   "id": "221cd9ec-407e-4afc-9ec3-b998697cc5e2",
   "metadata": {},
   "outputs": [],
   "source": [
    "comp_link= driver.find_element(By.XPATH, f\"//table[@id='tbl-datatable']//a[@target= '_self' and @title='{company_list[2]}']\")\n",
    "comp_link.click()"
   ]
  },
  {
   "cell_type": "code",
   "execution_count": 74,
   "id": "55a7fa0b-dd3c-4b61-9f65-ad28ec41981f",
   "metadata": {},
   "outputs": [],
   "source": [
    "fleet_btn= driver.find_element(By.XPATH, \"//section[@id='cnt-data-content']//nav[@class='btn-group btn-block']//a[contains(@href, '/fleet') and contains(text(), 'Fleet')]\")\n",
    "fleet_btn.click()"
   ]
  },
  {
   "cell_type": "code",
   "execution_count": 134,
   "id": "8ed4e80c-413e-4f85-909d-f51be649ea0a",
   "metadata": {},
   "outputs": [],
   "source": [
    "drop= driver.find_elements(By.CSS_SELECTOR, \"i.pull-right.fa.fa-angle-down\")\n",
    "for i in drop:\n",
    "    i.click()"
   ]
  },
  {
   "cell_type": "code",
   "execution_count": 135,
   "id": "99e7d6fc-07a8-43c0-be15-159080cd4d5f",
   "metadata": {
    "scrolled": true
   },
   "outputs": [],
   "source": [
    "aircraft_list = driver.find_elements(By.CSS_SELECTOR, \"#list-aircraft dd tbody tr\")\n",
    "list=[]\n",
    "for i in aircraft_list:\n",
    "    n=1\n",
    "    for j in i.find_elements(By.CSS_SELECTOR, \"td\"):\n",
    "        if n <= 2:\n",
    "            list.append(j.text)\n",
    "            n += 1\n",
    "        else:\n",
    "            pass"
   ]
  },
  {
   "cell_type": "code",
   "execution_count": 136,
   "id": "7099fdd4-dc84-44c6-9bb5-c1d5baba8c55",
   "metadata": {
    "scrolled": true
   },
   "outputs": [
    {
     "name": "stdout",
     "output_type": "stream",
     "text": [
      "[{'Registration': 'A7-AHA', 'Model': 'Airbus A320-232'}, {'Registration': 'A7-AHB', 'Model': 'Airbus A320-232'}, {'Registration': 'A7-AHC', 'Model': 'Airbus A320-232'}, {'Registration': 'A7-AHD', 'Model': 'Airbus A320-232'}, {'Registration': 'A7-AHE', 'Model': 'Airbus A320-232'}, {'Registration': 'A7-AHF', 'Model': 'Airbus A320-232'}, {'Registration': 'A7-AHG', 'Model': 'Airbus A320-232'}, {'Registration': 'A7-AHH', 'Model': 'Airbus A320-232'}, {'Registration': 'A7-AHI', 'Model': 'Airbus A320-232'}, {'Registration': 'A7-AHJ', 'Model': 'Airbus A320-232'}, {'Registration': 'A7-AHL', 'Model': 'Airbus A320-232'}, {'Registration': 'A7-AHO', 'Model': 'Airbus A320-232'}, {'Registration': 'A7-AHP', 'Model': 'Airbus A320-232'}, {'Registration': 'A7-AHQ', 'Model': 'Airbus A320-232'}, {'Registration': 'A7-AHR', 'Model': 'Airbus A320-232'}, {'Registration': 'A7-AHS', 'Model': 'Airbus A320-232'}, {'Registration': 'A7-AHT', 'Model': 'Airbus A320-232'}, {'Registration': 'A7-AHU', 'Model': 'Airbus A320-232'}, {'Registration': 'A7-AHW', 'Model': 'Airbus A320-232'}, {'Registration': 'A7-AHX', 'Model': 'Airbus A320-232'}, {'Registration': 'A7-AHY', 'Model': 'Airbus A320-232'}, {'Registration': 'A7-LAA', 'Model': 'Airbus A320-214'}, {'Registration': 'A7-LAB', 'Model': 'Airbus A320-214'}, {'Registration': 'A7-LAC', 'Model': 'Airbus A320-214'}, {'Registration': 'A7-LAD', 'Model': 'Airbus A320-214'}, {'Registration': 'A7-LAE', 'Model': 'Airbus A320-214'}, {'Registration': 'A7-LAF', 'Model': 'Airbus A320-214'}, {'Registration': 'A7-LAG', 'Model': 'Airbus A320-214'}, {'Registration': 'A7-LAH', 'Model': 'Airbus A320-214'}, {'Registration': 'A7-ACM', 'Model': 'Airbus A330-202'}, {'Registration': 'A7-ACS', 'Model': 'Airbus A330-202'}, {'Registration': 'A7-ACT', 'Model': 'Airbus A330-202'}, {'Registration': 'A7-AED', 'Model': 'Airbus A330-302'}, {'Registration': 'A7-AEE', 'Model': 'Airbus A330-302'}, {'Registration': 'A7-AEF', 'Model': 'Airbus A330-302'}, {'Registration': 'A7-AEG', 'Model': 'Airbus A330-302'}, {'Registration': 'A7-AEJ', 'Model': 'Airbus A330-302'}, {'Registration': 'A7-AEN', 'Model': 'Airbus A330-302'}, {'Registration': 'A7-AEO', 'Model': 'Airbus A330-302'}, {'Registration': 'A7-ALA', 'Model': 'Airbus A350-941'}, {'Registration': 'A7-ALB', 'Model': 'Airbus A350-941'}, {'Registration': 'A7-ALC', 'Model': 'Airbus A350-941'}, {'Registration': 'A7-ALD', 'Model': 'Airbus A350-941'}, {'Registration': 'A7-ALE', 'Model': 'Airbus A350-941'}, {'Registration': 'A7-ALF', 'Model': 'Airbus A350-941'}, {'Registration': 'A7-ALG', 'Model': 'Airbus A350-941'}, {'Registration': 'A7-ALH', 'Model': 'Airbus A350-941'}, {'Registration': 'A7-ALI', 'Model': 'Airbus A350-941'}, {'Registration': 'A7-ALJ', 'Model': 'Airbus A350-941'}, {'Registration': 'A7-ALK', 'Model': 'Airbus A350-941'}, {'Registration': 'A7-ALL', 'Model': 'Airbus A350-941'}, {'Registration': 'A7-ALM', 'Model': 'Airbus A350-941'}, {'Registration': 'A7-ALN', 'Model': 'Airbus A350-941'}, {'Registration': 'A7-ALO', 'Model': 'Airbus A350-941'}, {'Registration': 'A7-ALP', 'Model': 'Airbus A350-941'}, {'Registration': 'A7-ALQ', 'Model': 'Airbus A350-941'}, {'Registration': 'A7-ALR', 'Model': 'Airbus A350-941'}, {'Registration': 'A7-ALS', 'Model': 'Airbus A350-941'}, {'Registration': 'A7-ALT', 'Model': 'Airbus A350-941'}, {'Registration': 'A7-ALU', 'Model': 'Airbus A350-941'}, {'Registration': 'A7-ALV', 'Model': 'Airbus A350-941'}, {'Registration': 'A7-ALW', 'Model': 'Airbus A350-941'}, {'Registration': 'A7-ALX', 'Model': 'Airbus A350-941'}, {'Registration': 'A7-ALY', 'Model': 'Airbus A350-941'}, {'Registration': 'A7-ALZ', 'Model': 'Airbus A350-941'}, {'Registration': 'A7-AME', 'Model': 'Airbus A350-941'}, {'Registration': 'A7-AMF', 'Model': 'Airbus A350-941'}, {'Registration': 'A7-AMG', 'Model': 'Airbus A350-941'}, {'Registration': 'A7-AMH', 'Model': 'Airbus A350-941'}, {'Registration': 'A7-AMI', 'Model': 'Airbus A350-941'}, {'Registration': 'A7-AMJ', 'Model': 'Airbus A350-941'}, {'Registration': 'A7-AMK', 'Model': 'Airbus A350-941'}, {'Registration': 'A7-AML', 'Model': 'Airbus A350-941'}, {'Registration': 'A7-ANA', 'Model': 'Airbus A350-1041'}, {'Registration': 'A7-ANB', 'Model': 'Airbus A350-1041'}, {'Registration': 'A7-ANC', 'Model': 'Airbus A350-1041'}, {'Registration': 'A7-AND', 'Model': 'Airbus A350-1041'}, {'Registration': 'A7-ANE', 'Model': 'Airbus A350-1041'}, {'Registration': 'A7-ANF', 'Model': 'Airbus A350-1041'}, {'Registration': 'A7-ANG', 'Model': 'Airbus A350-1041'}, {'Registration': 'A7-ANH', 'Model': 'Airbus A350-1041'}, {'Registration': 'A7-ANI', 'Model': 'Airbus A350-1041'}, {'Registration': 'A7-ANJ', 'Model': 'Airbus A350-1041'}, {'Registration': 'A7-ANK', 'Model': 'Airbus A350-1041'}, {'Registration': 'A7-ANL', 'Model': 'Airbus A350-1041'}, {'Registration': 'A7-ANM', 'Model': 'Airbus A350-1041'}, {'Registration': 'A7-ANN', 'Model': 'Airbus A350-1041'}, {'Registration': 'A7-ANO', 'Model': 'Airbus A350-1041'}, {'Registration': 'A7-ANP', 'Model': 'Airbus A350-1041'}, {'Registration': 'A7-ANQ', 'Model': 'Airbus A350-1041'}, {'Registration': 'A7-ANR', 'Model': 'Airbus A350-1041'}, {'Registration': 'A7-ANS', 'Model': 'Airbus A350-1041'}, {'Registration': 'A7-ANT', 'Model': 'Airbus A350-1041'}, {'Registration': 'A7-AOA', 'Model': 'Airbus A350-1041'}, {'Registration': 'A7-AOB', 'Model': 'Airbus A350-1041'}, {'Registration': 'A7-AOC', 'Model': 'Airbus A350-1041'}, {'Registration': 'A7-AOD', 'Model': 'Airbus A350-1041'}, {'Registration': 'A7-APC', 'Model': 'Airbus A380-861'}, {'Registration': 'A7-APD', 'Model': 'Airbus A380-861'}, {'Registration': 'A7-APE', 'Model': 'Airbus A380-861'}, {'Registration': 'A7-APF', 'Model': 'Airbus A380-861'}, {'Registration': 'A7-APG', 'Model': 'Airbus A380-861'}, {'Registration': 'A7-APH', 'Model': 'Airbus A380-861'}, {'Registration': 'A7-API', 'Model': 'Airbus A380-861'}, {'Registration': 'A7-APJ', 'Model': 'Airbus A380-861'}, {'Registration': 'A7-BSA', 'Model': 'Boeing 737 MAX 8'}, {'Registration': 'A7-BSB', 'Model': 'Boeing 737 MAX 8'}, {'Registration': 'A7-BSC', 'Model': 'Boeing 737 MAX 8'}, {'Registration': 'A7-BSD', 'Model': 'Boeing 737 MAX 8'}, {'Registration': 'A7-BSE', 'Model': 'Boeing 737 MAX 8'}, {'Registration': 'A7-BSF', 'Model': 'Boeing 737 MAX 8'}, {'Registration': 'A7-BSG', 'Model': 'Boeing 737 MAX 8'}, {'Registration': 'A7-BSH', 'Model': 'Boeing 737 MAX 8'}, {'Registration': 'A7-BSI', 'Model': 'Boeing 737 MAX 8'}, {'Registration': 'A7-BBA', 'Model': 'Boeing 777-2DZ(LR)'}, {'Registration': 'A7-BBB', 'Model': 'Boeing 777-2DZ(LR)'}, {'Registration': 'A7-BBC', 'Model': 'Boeing 777-2DZ(LR)'}, {'Registration': 'A7-BBF', 'Model': 'Boeing 777-2DZ(LR)'}, {'Registration': 'A7-BBG', 'Model': 'Boeing 777-2DZ(LR)'}, {'Registration': 'A7-BBH', 'Model': 'Boeing 777-2DZ(LR)'}, {'Registration': 'A7-BBI', 'Model': 'Boeing 777-2DZ(LR)'}, {'Registration': 'A7-BFA', 'Model': 'Boeing 777-FDZ'}, {'Registration': 'A7-BFB', 'Model': 'Boeing 777-FDZ'}, {'Registration': 'A7-BFC', 'Model': 'Boeing 777-FDZ'}, {'Registration': 'A7-BFD', 'Model': 'Boeing 777-FDZ'}, {'Registration': 'A7-BFE', 'Model': 'Boeing 777-FDZ'}, {'Registration': 'A7-BFF', 'Model': 'Boeing 777-FDZ'}, {'Registration': 'A7-BFG', 'Model': 'Boeing 777-FDZ'}, {'Registration': 'A7-BFH', 'Model': 'Boeing 777-FDZ'}, {'Registration': 'A7-BFI', 'Model': 'Boeing 777-FDZ'}, {'Registration': 'A7-BFJ', 'Model': 'Boeing 777-FDZ'}, {'Registration': 'A7-BFK', 'Model': 'Boeing 777-FDZ'}, {'Registration': 'A7-BFL', 'Model': 'Boeing 777-FDZ'}, {'Registration': 'A7-BFM', 'Model': 'Boeing 777-FDZ'}, {'Registration': 'A7-BFN', 'Model': 'Boeing 777-FDZ'}, {'Registration': 'A7-BFO', 'Model': 'Boeing 777-FDZ'}, {'Registration': 'A7-BFP', 'Model': 'Boeing 777-F'}, {'Registration': 'A7-BFQ', 'Model': 'Boeing 777-F'}, {'Registration': 'A7-BFR', 'Model': 'Boeing 777-F'}, {'Registration': 'A7-BFS', 'Model': 'Boeing 777-F'}, {'Registration': 'A7-BFT', 'Model': 'Boeing 777-F'}, {'Registration': 'A7-BFU', 'Model': 'Boeing 777-F'}, {'Registration': 'A7-BFV', 'Model': 'Boeing 777-F'}, {'Registration': 'A7-BFW', 'Model': 'Boeing 777-F'}, {'Registration': 'A7-BFX', 'Model': 'Boeing 777-F'}, {'Registration': 'A7-BFY', 'Model': 'Boeing 777-F'}, {'Registration': 'A7-BFZ', 'Model': 'Boeing 777-F'}, {'Registration': 'A7-BTA', 'Model': 'Boeing 777-F'}, {'Registration': 'A7-BTB', 'Model': 'Boeing 777-F'}, {'Registration': 'A7-BAA', 'Model': 'Boeing 777-3DZ(ER)'}, {'Registration': 'A7-BAB', 'Model': 'Boeing 777-3DZ(ER)'}, {'Registration': 'A7-BAC', 'Model': 'Boeing 777-3DZ(ER)'}, {'Registration': 'A7-BAE', 'Model': 'Boeing 777-3DZ(ER)'}, {'Registration': 'A7-BAF', 'Model': 'Boeing 777-3DZ(ER)'}, {'Registration': 'A7-BAG', 'Model': 'Boeing 777-3DZ(ER)'}, {'Registration': 'A7-BAH', 'Model': 'Boeing 777-3DZ(ER)'}, {'Registration': 'A7-BAI', 'Model': 'Boeing 777-3DZ(ER)'}, {'Registration': 'A7-BAJ', 'Model': 'Boeing 777-3DZ(ER)'}, {'Registration': 'A7-BAK', 'Model': 'Boeing 777-3DZ(ER)'}, {'Registration': 'A7-BAL', 'Model': 'Boeing 777-3DZ(ER)'}, {'Registration': 'A7-BAM', 'Model': 'Boeing 777-3DZ(ER)'}, {'Registration': 'A7-BAN', 'Model': 'Boeing 777-3DZ(ER)'}, {'Registration': 'A7-BAO', 'Model': 'Boeing 777-3DZ(ER)'}, {'Registration': 'A7-BAP', 'Model': 'Boeing 777-3DZ(ER)'}, {'Registration': 'A7-BAQ', 'Model': 'Boeing 777-3DZ(ER)'}, {'Registration': 'A7-BAS', 'Model': 'Boeing 777-3DZ(ER)'}, {'Registration': 'A7-BAT', 'Model': 'Boeing 777-3DZ(ER)'}, {'Registration': 'A7-BAU', 'Model': 'Boeing 777-3DZ(ER)'}, {'Registration': 'A7-BAV', 'Model': 'Boeing 777-3DZ(ER)'}, {'Registration': 'A7-BAW', 'Model': 'Boeing 777-3DZ(ER)'}, {'Registration': 'A7-BAX', 'Model': 'Boeing 777-3DZ(ER)'}, {'Registration': 'A7-BAY', 'Model': 'Boeing 777-3DZ(ER)'}, {'Registration': 'A7-BAZ', 'Model': 'Boeing 777-3DZ(ER)'}, {'Registration': 'A7-BEA', 'Model': 'Boeing 777-3DZ(ER)'}, {'Registration': 'A7-BEB', 'Model': 'Boeing 777-3DZ(ER)'}, {'Registration': 'A7-BEC', 'Model': 'Boeing 777-3DZ(ER)'}, {'Registration': 'A7-BED', 'Model': 'Boeing 777-3DZ(ER)'}, {'Registration': 'A7-BEE', 'Model': 'Boeing 777-3DZ(ER)'}, {'Registration': 'A7-BEF', 'Model': 'Boeing 777-3DZ(ER)'}, {'Registration': 'A7-BEG', 'Model': 'Boeing 777-3DZ(ER)'}, {'Registration': 'A7-BEH', 'Model': 'Boeing 777-3DZ(ER)'}, {'Registration': 'A7-BEI', 'Model': 'Boeing 777-3DZ(ER)'}, {'Registration': 'A7-BEJ', 'Model': 'Boeing 777-3DZ(ER)'}, {'Registration': 'A7-BEK', 'Model': 'Boeing 777-3DZ(ER)'}, {'Registration': 'A7-BEL', 'Model': 'Boeing 777-3DZ(ER)'}, {'Registration': 'A7-BEM', 'Model': 'Boeing 777-3DZ(ER)'}, {'Registration': 'A7-BEN', 'Model': 'Boeing 777-3DZ(ER)'}, {'Registration': 'A7-BEO', 'Model': 'Boeing 777-3DZ(ER)'}, {'Registration': 'A7-BEP', 'Model': 'Boeing 777-3DZ(ER)'}, {'Registration': 'A7-BEQ', 'Model': 'Boeing 777-3DZ(ER)'}, {'Registration': 'A7-BER', 'Model': 'Boeing 777-3DZ(ER)'}, {'Registration': 'A7-BES', 'Model': 'Boeing 777-3DZ(ER)'}, {'Registration': 'A7-BET', 'Model': 'Boeing 777-3DZ(ER)'}, {'Registration': 'A7-BEU', 'Model': 'Boeing 777-3DZ(ER)'}, {'Registration': 'A7-BEV', 'Model': 'Boeing 777-3DZ(ER)'}, {'Registration': 'A7-BEW', 'Model': 'Boeing 777-3DZ(ER)'}, {'Registration': 'A7-BEX', 'Model': 'Boeing 777-3DZ(ER)'}, {'Registration': 'A7-BOA', 'Model': 'Boeing 777-367(ER)'}, {'Registration': 'A7-BOB', 'Model': 'Boeing 777-367(ER)'}, {'Registration': 'A7-BOC', 'Model': 'Boeing 777-367(ER)'}, {'Registration': 'A7-BOD', 'Model': 'Boeing 777-367(ER)'}, {'Registration': 'A7-BOE', 'Model': 'Boeing 777-3ZG(ER)'}, {'Registration': 'A7-BOF', 'Model': 'Boeing 777-3ZG(ER)'}, {'Registration': 'A7-BOG', 'Model': 'Boeing 777-3ZG(ER)'}, {'Registration': 'A7-BOH', 'Model': 'Boeing 777-367(ER)'}, {'Registration': 'A7-BOI', 'Model': 'Boeing 777-367(ER)'}, {'Registration': 'A7-BCA', 'Model': 'Boeing 787-8 Dreamliner'}, {'Registration': 'A7-BCB', 'Model': 'Boeing 787-8 Dreamliner'}, {'Registration': 'A7-BCC', 'Model': 'Boeing 787-8 Dreamliner'}, {'Registration': 'A7-BCD', 'Model': 'Boeing 787-8 Dreamliner'}, {'Registration': 'A7-BCE', 'Model': 'Boeing 787-8 Dreamliner'}, {'Registration': 'A7-BCF', 'Model': 'Boeing 787-8 Dreamliner'}, {'Registration': 'A7-BCG', 'Model': 'Boeing 787-8 Dreamliner'}, {'Registration': 'A7-BCH', 'Model': 'Boeing 787-8 Dreamliner'}, {'Registration': 'A7-BCI', 'Model': 'Boeing 787-8 Dreamliner'}, {'Registration': 'A7-BCJ', 'Model': 'Boeing 787-8 Dreamliner'}, {'Registration': 'A7-BCK', 'Model': 'Boeing 787-8 Dreamliner'}, {'Registration': 'A7-BCL', 'Model': 'Boeing 787-8 Dreamliner'}, {'Registration': 'A7-BCM', 'Model': 'Boeing 787-8 Dreamliner'}, {'Registration': 'A7-BCN', 'Model': 'Boeing 787-8 Dreamliner'}, {'Registration': 'A7-BCO', 'Model': 'Boeing 787-8 Dreamliner'}, {'Registration': 'A7-BCP', 'Model': 'Boeing 787-8 Dreamliner'}, {'Registration': 'A7-BCQ', 'Model': 'Boeing 787-8 Dreamliner'}, {'Registration': 'A7-BCR', 'Model': 'Boeing 787-8 Dreamliner'}, {'Registration': 'A7-BCS', 'Model': 'Boeing 787-8 Dreamliner'}, {'Registration': 'A7-BCT', 'Model': 'Boeing 787-8 Dreamliner'}, {'Registration': 'A7-BCU', 'Model': 'Boeing 787-8 Dreamliner'}, {'Registration': 'A7-BCV', 'Model': 'Boeing 787-8 Dreamliner'}, {'Registration': 'A7-BCW', 'Model': 'Boeing 787-8 Dreamliner'}, {'Registration': 'A7-BCX', 'Model': 'Boeing 787-8 Dreamliner'}, {'Registration': 'A7-BCY', 'Model': 'Boeing 787-8 Dreamliner'}, {'Registration': 'A7-BCZ', 'Model': 'Boeing 787-8 Dreamliner'}, {'Registration': 'A7-BDA', 'Model': 'Boeing 787-8 Dreamliner'}, {'Registration': 'A7-BDB', 'Model': 'Boeing 787-8 Dreamliner'}, {'Registration': 'A7-BDC', 'Model': 'Boeing 787-8 Dreamliner'}, {'Registration': 'A7-BDD', 'Model': 'Boeing 787-8 Dreamliner'}, {'Registration': 'A7-BHA', 'Model': 'Boeing 787-9 Dreamliner'}, {'Registration': 'A7-BHB', 'Model': 'Boeing 787-9 Dreamliner'}, {'Registration': 'A7-BHC', 'Model': 'Boeing 787-9 Dreamliner'}, {'Registration': 'A7-BHD', 'Model': 'Boeing 787-9 Dreamliner'}, {'Registration': 'A7-BHE', 'Model': 'Boeing 787-9 Dreamliner'}, {'Registration': 'A7-BHF', 'Model': 'Boeing 787-9 Dreamliner'}, {'Registration': 'A7-BHG', 'Model': 'Boeing 787-9 Dreamliner'}, {'Registration': 'A7-BHH', 'Model': 'Boeing 787-9 Dreamliner'}, {'Registration': 'A7-BHI', 'Model': 'Boeing 787-9 Dreamliner'}, {'Registration': 'A7-BHJ', 'Model': 'Boeing 787-9 Dreamliner'}, {'Registration': 'A7-BHK', 'Model': 'Boeing 787-9 Dreamliner'}, {'Registration': 'A7-BHL', 'Model': 'Boeing 787-9 Dreamliner'}, {'Registration': 'A7-BHM', 'Model': 'Boeing 787-9 Dreamliner'}, {'Registration': 'A7-BHN', 'Model': 'Boeing 787-9 Dreamliner'}, {'Registration': 'A7-BHO', 'Model': 'Boeing 787-9 Dreamliner'}, {'Registration': 'A7-BHP', 'Model': 'Boeing 787-9 Dreamliner'}, {'Registration': 'A7-BHQ', 'Model': 'Boeing 787-9 Dreamliner'}, {'Registration': 'A7-BHR', 'Model': 'Boeing 787-9 Dreamliner'}]\n"
     ]
    }
   ],
   "source": [
    "result=[]\n",
    "for i in range(0, len(list)-1, 2):\n",
    "    result.append({'Registration': list[i], 'Model': list[i+1]})\n",
    "print(result)"
   ]
  },
  {
   "cell_type": "code",
   "execution_count": 140,
   "id": "2cbc9263-57e4-455c-a747-b55afca16c66",
   "metadata": {},
   "outputs": [],
   "source": [
    "import csv\n",
    "with open(\"flightrdr24.csv\", \"w\") as file:\n",
    "    fieldnames = [\"Registration\", \"Model\"]\n",
    "    writer = csv.DictWriter(file, fieldnames=fieldnames)\n",
    "    writer.writeheader()\n",
    "    writer.writerows(result)"
   ]
  },
  {
   "cell_type": "code",
   "execution_count": 141,
   "id": "e9318298-f27b-455e-b484-81d41f4bc300",
   "metadata": {},
   "outputs": [],
   "source": [
    "driver.quit()"
   ]
  },
  {
   "cell_type": "code",
   "execution_count": null,
   "id": "b39ae071-ccf7-414c-be52-491e1362eba4",
   "metadata": {},
   "outputs": [],
   "source": []
  }
 ],
 "metadata": {
  "kernelspec": {
   "display_name": "Python 3 (ipykernel)",
   "language": "python",
   "name": "python3"
  },
  "language_info": {
   "codemirror_mode": {
    "name": "ipython",
    "version": 3
   },
   "file_extension": ".py",
   "mimetype": "text/x-python",
   "name": "python",
   "nbconvert_exporter": "python",
   "pygments_lexer": "ipython3",
   "version": "3.12.5"
  }
 },
 "nbformat": 4,
 "nbformat_minor": 5
}
