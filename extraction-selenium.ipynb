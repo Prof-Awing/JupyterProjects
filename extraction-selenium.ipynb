{
 "cells": [
  {
   "cell_type": "markdown",
   "id": "621b6d9d-f269-4545-8336-6a0def207172",
   "metadata": {},
   "source": [
    "# Wikipedia __Web-Scraping__ with Python\n",
    "### With search terms\n",
    "\n",
    "+ Put your search term\n",
    "+ Run the main engine\n",
    "+ View\n",
    "+ Type the path of the file(default: current_directory/yoursearchterm.txt)\n",
    "+ Saving\n",
    "+ Quitting the driver"
   ]
  },
  {
   "cell_type": "code",
   "execution_count": null,
   "id": "612eb482-f96b-4cbb-b5a2-30d3a88a4253",
   "metadata": {
    "scrolled": true
   },
   "outputs": [],
   "source": [
    "!pip install selenium"
   ]
  },
  {
   "cell_type": "markdown",
   "id": "2311b5f7-b9d3-45dc-bfb3-34cb5509c1fd",
   "metadata": {},
   "source": [
    "### Put you search term"
   ]
  },
  {
   "cell_type": "code",
   "execution_count": 9,
   "id": "0ed6b1e6-de17-4942-bbd8-b55fdc9b4416",
   "metadata": {},
   "outputs": [],
   "source": [
    "your_search_term= \"Revolution\""
   ]
  },
  {
   "cell_type": "markdown",
   "id": "d0cc473c-45db-4209-b9d4-df7143c0de74",
   "metadata": {},
   "source": [
    "### Run the main cell\n",
    "Wait until the browser loads.\n",
    "\n",
    "Run again if error"
   ]
  },
  {
   "cell_type": "code",
   "execution_count": 10,
   "id": "2e318d73-77d6-400c-9e46-ef7a9d002ed9",
   "metadata": {
    "scrolled": true
   },
   "outputs": [],
   "source": [
    "from selenium import webdriver\n",
    "from selenium.webdriver.common.by import By\n",
    "\n",
    "\n",
    "driver= webdriver.Chrome()\n",
    "driver.get(\"https://en.wikipedia.org/wiki/List_of_presidents_of_Bangladesh\")\n",
    "\n",
    "search= driver.find_element(By.XPATH, \"//a[@href='/wiki/Special:Search' and @class='cdx-button cdx-button--fake-button cdx-button--fake-button--enabled cdx-button--weight-quiet cdx-button--icon-only search-toggle']\")\n",
    "search.click()\n",
    "searchi= driver.find_element(By.XPATH, \"//input[@class='cdx-text-input__input' and @name='search' and @type='search']\")\n",
    "searchi.send_keys(your_search_term)\n",
    "submit= driver.find_element(By.XPATH, \"//form[@id='searchform']//button[contains(@class, 'cdx-button') and contains(@class, 'cdx-search-input__end-button')]\")\n",
    "submit.click()\n",
    "\n",
    "para= driver.find_element(By.XPATH, \"//div[@class='mw-content-ltr mw-parser-output']//p[position()>=1]\").text\n",
    "\n",
    "\n"
   ]
  },
  {
   "cell_type": "markdown",
   "id": "69e6bbb8-dae8-44a1-985a-47ed0d411ab0",
   "metadata": {},
   "source": [
    "### View output.\n",
    "Sometimes can only be viewed with a file"
   ]
  },
  {
   "cell_type": "code",
   "execution_count": 11,
   "id": "0f755868-072c-4644-9364-03748c330b51",
   "metadata": {},
   "outputs": [
    {
     "name": "stdout",
     "output_type": "stream",
     "text": [
      "In political science, a revolution (Latin: revolutio, 'a turn around') is a rapid, fundamental transformation of a society's class, state, ethnic or religious structures.[1] According to sociologist Jack Goldstone, all revolutions contain \"a common set of elements at their core: (a) efforts to change the political regime that draw on a competing vision (or visions) of a just order, (b) a notable degree of informal or formal mass mobilization, and (c) efforts to force change through noninstitutionalized actions such as mass demonstrations, protests, strikes, or violence.\"[2]\n"
     ]
    }
   ],
   "source": [
    "print(para)"
   ]
  },
  {
   "cell_type": "markdown",
   "id": "8b11485d-4cca-404a-981c-0cab38b0810c",
   "metadata": {},
   "source": [
    "### Saving"
   ]
  },
  {
   "cell_type": "code",
   "execution_count": 12,
   "id": "7239cbd4-4e7f-49fa-8c08-b22fe8f55a4a",
   "metadata": {},
   "outputs": [],
   "source": [
    "filepath= f\"{your_search_term}.txt\" #Customizable"
   ]
  },
  {
   "cell_type": "code",
   "execution_count": 13,
   "id": "c438ed9e-c0bf-47e3-b007-32081f09fba0",
   "metadata": {},
   "outputs": [],
   "source": [
    "with open(filepath, 'w') as file:\n",
    "    file.write(para)"
   ]
  },
  {
   "cell_type": "markdown",
   "id": "d0e17590-4ee1-4c25-a320-c23a23a0f6f0",
   "metadata": {},
   "source": [
    "### Don't forget to close the driver"
   ]
  },
  {
   "cell_type": "code",
   "execution_count": 14,
   "id": "1f88e2a8-515b-4341-9025-76a988d50f2a",
   "metadata": {},
   "outputs": [],
   "source": [
    "driver.quit()"
   ]
  },
  {
   "cell_type": "markdown",
   "id": "dc2a50ab-437a-4df8-b6d0-351328c0fc68",
   "metadata": {},
   "source": [
    "#### Opens Wikipedia and searches a given term to move to another page automatically, and then extracts the first paragraph."
   ]
  }
 ],
 "metadata": {
  "kernelspec": {
   "display_name": "Python 3 (ipykernel)",
   "language": "python",
   "name": "python3"
  },
  "language_info": {
   "codemirror_mode": {
    "name": "ipython",
    "version": 3
   },
   "file_extension": ".py",
   "mimetype": "text/x-python",
   "name": "python",
   "nbconvert_exporter": "python",
   "pygments_lexer": "ipython3",
   "version": "3.12.5"
  }
 },
 "nbformat": 4,
 "nbformat_minor": 5
}
