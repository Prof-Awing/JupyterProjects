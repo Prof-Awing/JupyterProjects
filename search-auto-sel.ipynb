{
 "cells": [
  {
   "cell_type": "markdown",
   "id": "621b6d9d-f269-4545-8336-6a0def207172",
   "metadata": {},
   "source": [
    "# Wikipedia __Search Automation__ with Python"
   ]
  },
  {
   "cell_type": "code",
   "execution_count": 1,
   "id": "612eb482-f96b-4cbb-b5a2-30d3a88a4253",
   "metadata": {
    "scrolled": true
   },
   "outputs": [
    {
     "name": "stdout",
     "output_type": "stream",
     "text": [
      "Requirement already satisfied: selenium in c:\\users\\morshed\\appdata\\roaming\\jupyterlab-desktop\\jlab_server\\lib\\site-packages (4.24.0)\n",
      "Requirement already satisfied: urllib3<3,>=1.26 in c:\\users\\morshed\\appdata\\roaming\\jupyterlab-desktop\\jlab_server\\lib\\site-packages (from urllib3[socks]<3,>=1.26->selenium) (2.2.2)\n",
      "Requirement already satisfied: trio~=0.17 in c:\\users\\morshed\\appdata\\roaming\\jupyterlab-desktop\\jlab_server\\lib\\site-packages (from selenium) (0.26.2)\n",
      "Requirement already satisfied: trio-websocket~=0.9 in c:\\users\\morshed\\appdata\\roaming\\jupyterlab-desktop\\jlab_server\\lib\\site-packages (from selenium) (0.11.1)\n",
      "Requirement already satisfied: certifi>=2021.10.8 in c:\\users\\morshed\\appdata\\roaming\\jupyterlab-desktop\\jlab_server\\lib\\site-packages (from selenium) (2024.7.4)\n",
      "Requirement already satisfied: typing_extensions~=4.9 in c:\\users\\morshed\\appdata\\roaming\\jupyterlab-desktop\\jlab_server\\lib\\site-packages (from selenium) (4.12.2)\n",
      "Requirement already satisfied: websocket-client~=1.8 in c:\\users\\morshed\\appdata\\roaming\\jupyterlab-desktop\\jlab_server\\lib\\site-packages (from selenium) (1.8.0)\n",
      "Requirement already satisfied: attrs>=23.2.0 in c:\\users\\morshed\\appdata\\roaming\\jupyterlab-desktop\\jlab_server\\lib\\site-packages (from trio~=0.17->selenium) (24.2.0)\n",
      "Requirement already satisfied: sortedcontainers in c:\\users\\morshed\\appdata\\roaming\\jupyterlab-desktop\\jlab_server\\lib\\site-packages (from trio~=0.17->selenium) (2.4.0)\n",
      "Requirement already satisfied: idna in c:\\users\\morshed\\appdata\\roaming\\jupyterlab-desktop\\jlab_server\\lib\\site-packages (from trio~=0.17->selenium) (3.8)\n",
      "Requirement already satisfied: outcome in c:\\users\\morshed\\appdata\\roaming\\jupyterlab-desktop\\jlab_server\\lib\\site-packages (from trio~=0.17->selenium) (1.3.0.post0)\n",
      "Requirement already satisfied: sniffio>=1.3.0 in c:\\users\\morshed\\appdata\\roaming\\jupyterlab-desktop\\jlab_server\\lib\\site-packages (from trio~=0.17->selenium) (1.3.1)\n",
      "Requirement already satisfied: cffi>=1.14 in c:\\users\\morshed\\appdata\\roaming\\jupyterlab-desktop\\jlab_server\\lib\\site-packages (from trio~=0.17->selenium) (1.17.0)\n",
      "Requirement already satisfied: wsproto>=0.14 in c:\\users\\morshed\\appdata\\roaming\\jupyterlab-desktop\\jlab_server\\lib\\site-packages (from trio-websocket~=0.9->selenium) (1.2.0)\n",
      "Requirement already satisfied: pysocks!=1.5.7,<2.0,>=1.5.6 in c:\\users\\morshed\\appdata\\roaming\\jupyterlab-desktop\\jlab_server\\lib\\site-packages (from urllib3[socks]<3,>=1.26->selenium) (1.7.1)\n",
      "Requirement already satisfied: pycparser in c:\\users\\morshed\\appdata\\roaming\\jupyterlab-desktop\\jlab_server\\lib\\site-packages (from cffi>=1.14->trio~=0.17->selenium) (2.22)\n",
      "Requirement already satisfied: h11<1,>=0.9.0 in c:\\users\\morshed\\appdata\\roaming\\jupyterlab-desktop\\jlab_server\\lib\\site-packages (from wsproto>=0.14->trio-websocket~=0.9->selenium) (0.14.0)\n"
     ]
    }
   ],
   "source": [
    "!pip install selenium"
   ]
  },
  {
   "cell_type": "code",
   "execution_count": 51,
   "id": "a5e2b86b-635f-479d-9003-c7b63272e421",
   "metadata": {},
   "outputs": [],
   "source": [
    "from selenium import webdriver\n",
    "from selenium.webdriver.common.by import By"
   ]
  },
  {
   "cell_type": "code",
   "execution_count": 52,
   "id": "04ef7369-1ae0-45dc-a67d-2082ed36cf19",
   "metadata": {},
   "outputs": [],
   "source": [
    "driver= webdriver.Chrome()\n",
    "driver.get(\"https://en.wikipedia.org/wiki/List_of_presidents_of_Bangladesh\")"
   ]
  },
  {
   "cell_type": "code",
   "execution_count": 53,
   "id": "c81d21c0-bbe9-484c-8cb6-6d050ffd9e81",
   "metadata": {},
   "outputs": [],
   "source": [
    "your_search_term= \"Internet\""
   ]
  },
  {
   "cell_type": "code",
   "execution_count": 54,
   "id": "c10820b3-8f47-4a4a-b2c9-0e22e928f13d",
   "metadata": {},
   "outputs": [],
   "source": [
    "search= driver.find_element(By.XPATH, \"//a[@href='/wiki/Special:Search' and @class='cdx-button cdx-button--fake-button cdx-button--fake-button--enabled cdx-button--weight-quiet cdx-button--icon-only search-toggle']\")\n",
    "search.click()\n",
    "searchi= driver.find_element(By.XPATH, \"//input[@class='cdx-text-input__input' and @name='search' and @type='search']\")\n",
    "searchi.send_keys(your_search_term)\n",
    "submit= driver.find_element(By.XPATH, \"//form[@id='searchform']//button[contains(@class, 'cdx-button') and contains(@class, 'cdx-search-input__end-button')]\")\n",
    "submit.click()"
   ]
  },
  {
   "cell_type": "code",
   "execution_count": 55,
   "id": "1f88e2a8-515b-4341-9025-76a988d50f2a",
   "metadata": {},
   "outputs": [],
   "source": [
    "driver.quit()"
   ]
  },
  {
   "cell_type": "markdown",
   "id": "dc2a50ab-437a-4df8-b6d0-351328c0fc68",
   "metadata": {},
   "source": [
    "## Opened Wikipedia and searched a given term to move to another page automatically."
   ]
  },
  {
   "cell_type": "code",
   "execution_count": null,
   "id": "fad06a82-21f3-4cdc-a435-fc3f483ec1b7",
   "metadata": {},
   "outputs": [],
   "source": []
  }
 ],
 "metadata": {
  "kernelspec": {
   "display_name": "Python 3 (ipykernel)",
   "language": "python",
   "name": "python3"
  },
  "language_info": {
   "codemirror_mode": {
    "name": "ipython",
    "version": 3
   },
   "file_extension": ".py",
   "mimetype": "text/x-python",
   "name": "python",
   "nbconvert_exporter": "python",
   "pygments_lexer": "ipython3",
   "version": "3.12.5"
  }
 },
 "nbformat": 4,
 "nbformat_minor": 5
}
